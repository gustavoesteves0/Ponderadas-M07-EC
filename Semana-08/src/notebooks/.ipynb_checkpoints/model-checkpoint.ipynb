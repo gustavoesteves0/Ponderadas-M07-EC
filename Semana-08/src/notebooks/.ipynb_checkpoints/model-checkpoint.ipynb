{
 "cells": [
  {
   "cell_type": "code",
   "execution_count": 264,
   "id": "1566bff4-e53d-4845-92fd-101a95ac68d9",
   "metadata": {},
   "outputs": [],
   "source": [
    "import numpy as np\n",
    "import pandas as pd\n",
    "from sklearn.preprocessing import MinMaxScaler\n",
    "from tensorflow.keras.models import Sequential\n",
    "from tensorflow.keras.layers import LSTM, Dense, Dropout\n",
    "from tensorflow.keras.layers import Input\n",
    "import matplotlib.pyplot as plt\n",
    "import matplotlib.dates as mdates"
   ]
  },
  {
   "cell_type": "code",
   "execution_count": 265,
   "id": "a5381a39-afd4-46e3-b01e-856a3948af53",
   "metadata": {},
   "outputs": [],
   "source": [
    "rndr_df = pd.read_csv('./data/RNDR_historical_data.csv')"
   ]
  },
  {
   "cell_type": "code",
   "execution_count": 266,
   "id": "1bb9d19a-a6e3-48c5-bbba-ee55abb05e19",
   "metadata": {},
   "outputs": [],
   "source": [
    "# Armazenando a coluna de datas separadamente\n",
    "dates = rndr_df['date']"
   ]
  },
  {
   "cell_type": "code",
   "execution_count": 267,
   "id": "1f507775-7974-4919-b1fc-b12138f946a9",
   "metadata": {},
   "outputs": [
    {
     "name": "stdout",
     "output_type": "stream",
     "text": [
      "0      2023-09-16\n",
      "1      2023-09-17\n",
      "2      2023-09-18\n",
      "3      2023-09-19\n",
      "4      2023-09-20\n",
      "          ...    \n",
      "360    2024-09-10\n",
      "361    2024-09-11\n",
      "362    2024-09-12\n",
      "363    2024-09-13\n",
      "364    2024-09-14\n",
      "Name: date, Length: 365, dtype: object\n"
     ]
    }
   ],
   "source": [
    "print(dates)"
   ]
  },
  {
   "cell_type": "code",
   "execution_count": 268,
   "id": "2b3ab464-f19b-4d61-bf3d-45fbd4ce099c",
   "metadata": {},
   "outputs": [],
   "source": [
    "# Removendo a coluna de datas antes de normalizar\n",
    "rndr_df = rndr_df.drop(columns=['date'])"
   ]
  },
  {
   "cell_type": "code",
   "execution_count": 269,
   "id": "f68c603c-2409-4f6b-bd9c-4c89296f98c7",
   "metadata": {},
   "outputs": [],
   "source": [
    "# Normalizando os dados numéricos\n",
    "scaler = MinMaxScaler(feature_range=(0, 1))\n",
    "scaled_data = scaler.fit_transform(rndr_df)"
   ]
  },
  {
   "cell_type": "code",
   "execution_count": 270,
   "id": "278e120d-166d-47c5-82b5-3abac1430ec3",
   "metadata": {},
   "outputs": [],
   "source": [
    "# Normalizando apenas a coluna de preços (durante o treino e o teste)\n",
    "scaler = MinMaxScaler(feature_range=(0, 1))"
   ]
  },
  {
   "cell_type": "code",
   "execution_count": 271,
   "id": "603dec1d-ecb2-4bb7-947f-1823683f63b2",
   "metadata": {},
   "outputs": [],
   "source": [
    "scaled_data = scaler.fit_transform(rndr_df[['price']].values)"
   ]
  },
  {
   "cell_type": "code",
   "execution_count": 272,
   "id": "33a1f52d-a40a-438a-8ce9-abe921c1ed9e",
   "metadata": {},
   "outputs": [
    {
     "name": "stdout",
     "output_type": "stream",
     "text": [
      "\u001b[1m8/8\u001b[0m \u001b[32m━━━━━━━━━━━━━━━━━━━━\u001b[0m\u001b[37m\u001b[0m \u001b[1m0s\u001b[0m 9ms/step\n",
      "\u001b[1m1/1\u001b[0m \u001b[32m━━━━━━━━━━━━━━━━━━━━\u001b[0m\u001b[37m\u001b[0m \u001b[1m0s\u001b[0m 18ms/step\n"
     ]
    }
   ],
   "source": [
    "train_predict = model.predict(X_train)\n",
    "test_predict = model.predict(X_test)"
   ]
  },
  {
   "cell_type": "code",
   "execution_count": 273,
   "id": "7cb05c48-282c-451e-a4a6-b65b74dc3a0f",
   "metadata": {},
   "outputs": [],
   "source": [
    "train_predict = scaler.inverse_transform(train_predict)\n",
    "test_predict = scaler.inverse_transform(test_predict)"
   ]
  },
  {
   "cell_type": "code",
   "execution_count": 274,
   "id": "3a28ad98-586d-4e50-b0ef-acc8b52f5518",
   "metadata": {},
   "outputs": [
    {
     "name": "stdout",
     "output_type": "stream",
     "text": [
      "[[ 31.062956]\n",
      " [ 30.837654]\n",
      " [ 31.492472]\n",
      " [ 32.842896]\n",
      " [ 34.465046]\n",
      " [ 36.65165 ]\n",
      " [ 38.801743]\n",
      " [ 40.659298]\n",
      " [ 41.472187]\n",
      " [ 42.091415]\n",
      " [ 42.16612 ]\n",
      " [ 42.2642  ]\n",
      " [ 42.43267 ]\n",
      " [ 42.331474]\n",
      " [ 41.85019 ]\n",
      " [ 41.45822 ]\n",
      " [ 41.00669 ]\n",
      " [ 40.92411 ]\n",
      " [ 41.233288]\n",
      " [ 41.872795]\n",
      " [ 43.016884]\n",
      " [ 44.006542]\n",
      " [ 44.70768 ]\n",
      " [ 45.06381 ]\n",
      " [ 45.179184]\n",
      " [ 45.589405]\n",
      " [ 45.725586]\n",
      " [ 45.87157 ]\n",
      " [ 46.233086]\n",
      " [ 47.117733]\n",
      " [ 48.037254]\n",
      " [ 49.772434]\n",
      " [ 51.145504]\n",
      " [ 52.277103]\n",
      " [ 52.703964]\n",
      " [ 53.147377]\n",
      " [ 53.009327]\n",
      " [ 53.181923]\n",
      " [ 53.092808]\n",
      " [ 53.25244 ]\n",
      " [ 54.110424]\n",
      " [ 54.802177]\n",
      " [ 55.411766]\n",
      " [ 56.988663]\n",
      " [ 58.356968]\n",
      " [ 58.61405 ]\n",
      " [ 58.439075]\n",
      " [ 57.91254 ]\n",
      " [ 57.096054]\n",
      " [ 56.81437 ]\n",
      " [ 56.599125]\n",
      " [ 55.974476]\n",
      " [ 55.246117]\n",
      " [ 53.75845 ]\n",
      " [ 51.77998 ]\n",
      " [ 49.509094]\n",
      " [ 48.207897]\n",
      " [ 47.14922 ]\n",
      " [ 47.080082]\n",
      " [ 47.22104 ]\n",
      " [ 47.059006]\n",
      " [ 46.913708]\n",
      " [ 46.568478]\n",
      " [ 46.169975]\n",
      " [ 46.17145 ]\n",
      " [ 46.778152]\n",
      " [ 47.800728]\n",
      " [ 48.598373]\n",
      " [ 48.95788 ]\n",
      " [ 49.027092]\n",
      " [ 48.47542 ]\n",
      " [ 47.71261 ]\n",
      " [ 47.121464]\n",
      " [ 46.420513]\n",
      " [ 46.152805]\n",
      " [ 46.4309  ]\n",
      " [ 46.755077]\n",
      " [ 47.686516]\n",
      " [ 49.388145]\n",
      " [ 50.706467]\n",
      " [ 52.249233]\n",
      " [ 53.620415]\n",
      " [ 54.980686]\n",
      " [ 55.967804]\n",
      " [ 56.13405 ]\n",
      " [ 55.637264]\n",
      " [ 55.22604 ]\n",
      " [ 54.79893 ]\n",
      " [ 54.987953]\n",
      " [ 55.28746 ]\n",
      " [ 55.577248]\n",
      " [ 56.162785]\n",
      " [ 57.01301 ]\n",
      " [ 58.083187]\n",
      " [ 59.77627 ]\n",
      " [ 61.469707]\n",
      " [ 63.811592]\n",
      " [ 66.38144 ]\n",
      " [ 69.88739 ]\n",
      " [ 73.58814 ]\n",
      " [ 77.97179 ]\n",
      " [ 83.03535 ]\n",
      " [ 87.56733 ]\n",
      " [ 90.80012 ]\n",
      " [ 92.993385]\n",
      " [ 95.270004]\n",
      " [ 96.20894 ]\n",
      " [ 98.43086 ]\n",
      " [ 99.367584]\n",
      " [100.76296 ]\n",
      " [101.420746]\n",
      " [101.548904]\n",
      " [101.09374 ]\n",
      " [ 99.3488  ]\n",
      " [102.9766  ]\n",
      " [108.896484]\n",
      " [115.369255]\n",
      " [123.63945 ]\n",
      " [128.61128 ]\n",
      " [131.98389 ]\n",
      " [133.98682 ]\n",
      " [135.07053 ]\n",
      " [136.27475 ]\n",
      " [135.94196 ]\n",
      " [133.97627 ]\n",
      " [136.45207 ]\n",
      " [136.62585 ]\n",
      " [134.92455 ]\n",
      " [134.7104  ]\n",
      " [133.0969  ]\n",
      " [131.19409 ]\n",
      " [129.56279 ]\n",
      " [128.58116 ]\n",
      " [128.01001 ]\n",
      " [127.75296 ]\n",
      " [127.84943 ]\n",
      " [127.695496]\n",
      " [127.135   ]\n",
      " [126.15348 ]\n",
      " [125.039566]\n",
      " [122.964645]\n",
      " [119.79061 ]\n",
      " [116.728355]\n",
      " [114.58985 ]\n",
      " [112.22692 ]\n",
      " [110.86047 ]\n",
      " [110.36702 ]\n",
      " [111.367   ]\n",
      " [110.704   ]\n",
      " [109.38869 ]\n",
      " [107.74544 ]\n",
      " [104.61027 ]\n",
      " [100.25021 ]\n",
      " [ 99.23368 ]\n",
      " [ 97.82303 ]\n",
      " [ 96.63031 ]\n",
      " [ 94.50347 ]\n",
      " [ 93.04112 ]\n",
      " [ 92.15654 ]\n",
      " [ 93.72413 ]\n",
      " [ 96.24246 ]\n",
      " [ 99.24649 ]\n",
      " [101.38895 ]\n",
      " [101.82139 ]\n",
      " [102.006226]\n",
      " [100.919815]\n",
      " [ 99.6198  ]\n",
      " [ 98.10522 ]\n",
      " [ 96.711136]\n",
      " [ 94.44689 ]\n",
      " [ 93.08798 ]\n",
      " [ 92.644516]\n",
      " [ 93.5835  ]\n",
      " [ 96.57977 ]\n",
      " [101.97772 ]\n",
      " [107.44762 ]\n",
      " [112.920586]\n",
      " [116.31736 ]\n",
      " [120.337906]\n",
      " [123.720276]\n",
      " [126.09519 ]\n",
      " [127.44433 ]\n",
      " [128.92155 ]\n",
      " [127.828926]\n",
      " [127.437225]\n",
      " [125.973114]\n",
      " [124.547806]\n",
      " [123.73332 ]\n",
      " [122.518486]\n",
      " [123.021515]\n",
      " [124.30625 ]\n",
      " [124.46581 ]\n",
      " [123.52824 ]\n",
      " [122.19731 ]\n",
      " [120.84532 ]\n",
      " [119.46225 ]\n",
      " [118.59993 ]\n",
      " [118.0995  ]\n",
      " [117.87457 ]\n",
      " [117.22268 ]\n",
      " [116.80074 ]\n",
      " [116.26592 ]\n",
      " [115.51655 ]\n",
      " [115.029236]\n",
      " [115.34984 ]\n",
      " [116.59318 ]\n",
      " [117.11761 ]\n",
      " [115.78968 ]\n",
      " [113.32653 ]\n",
      " [111.06078 ]\n",
      " [108.01909 ]\n",
      " [104.374306]\n",
      " [103.45998 ]\n",
      " [101.35804 ]\n",
      " [ 98.727455]\n",
      " [ 96.38284 ]\n",
      " [ 95.472115]\n",
      " [ 93.755356]\n",
      " [ 91.54913 ]\n",
      " [ 90.243195]\n",
      " [ 89.14858 ]\n",
      " [ 88.251755]\n",
      " [ 87.37835 ]\n",
      " [ 86.00884 ]\n",
      " [ 85.97839 ]\n",
      " [ 86.73336 ]\n",
      " [ 87.30053 ]\n",
      " [ 88.5241  ]\n",
      " [ 89.03686 ]\n",
      " [ 88.9071  ]\n",
      " [ 89.835014]]\n",
      "[[69.72509 ]\n",
      " [67.26896 ]\n",
      " [65.499794]\n",
      " [63.42039 ]\n",
      " [61.992867]\n",
      " [60.507824]\n",
      " [59.250546]\n",
      " [58.34326 ]\n",
      " [58.01923 ]\n",
      " [58.62061 ]\n",
      " [59.797432]\n",
      " [60.76373 ]]\n"
     ]
    }
   ],
   "source": [
    "# Exibindo os valores preditos\n",
    "print(train_predict)  # Exibe as primeiras 5 previsões reais\n",
    "print(test_predict)   # Exibe as primeiras 5 previsões reais"
   ]
  },
  {
   "cell_type": "code",
   "execution_count": 275,
   "id": "6053d70e-f31f-4e41-a760-29e8111c5248",
   "metadata": {},
   "outputs": [],
   "source": [
    "# Criar os dados de treinamento\n",
    "train_size = int(len(rndr_df) * 0.8)\n",
    "test_size = len(rndr_df) - train_size\n",
    "\n",
    "train_data = rndr_df[:train_size]\n",
    "test_data = rndr_df[train_size:]"
   ]
  },
  {
   "cell_type": "code",
   "execution_count": 276,
   "id": "e1f98054-f433-436a-bd3f-bfa3c8143867",
   "metadata": {},
   "outputs": [],
   "source": [
    "def create_dataset(rndr_df, time_step):\n",
    "    X, y = [], []\n",
    "    for i in range(len(rndr_df) - time_step - 1):\n",
    "        # Ajustando a indexação usando pandas .iloc\n",
    "        X.append(rndr_df.iloc[i:(i + time_step), 0].values)  # .values para retornar um array NumPy\n",
    "        y.append(rndr_df.iloc[i + time_step, 0])\n",
    "    return np.array(X), np.array(y)"
   ]
  },
  {
   "cell_type": "code",
   "execution_count": 277,
   "id": "745d88d2-6288-42f3-a477-65c229e1d40b",
   "metadata": {},
   "outputs": [],
   "source": [
    "# Criando dados de entrada e saída para treinamento e teste\n",
    "time_step = 60\n",
    "X_train, y_train = create_dataset(train_data, time_step)\n",
    "X_test, y_test = create_dataset(test_data, time_step)"
   ]
  },
  {
   "cell_type": "code",
   "execution_count": 278,
   "id": "b1bf4aa0-0e0f-42f7-8f1b-45b69eee9b57",
   "metadata": {},
   "outputs": [],
   "source": [
    "# Redimensionar para LSTM [amostras, time_steps, features]\n",
    "X_train = X_train.reshape(X_train.shape[0], X_train.shape[1], 1)\n",
    "X_test = X_test.reshape(X_test.shape[0], X_test.shape[1], 1)"
   ]
  },
  {
   "cell_type": "code",
   "execution_count": 279,
   "id": "9f4fa453-76a4-4705-b444-7349785743cd",
   "metadata": {},
   "outputs": [],
   "source": [
    "# Definindo a forma de entrada\n",
    "input_shape = (X_train.shape[1], 1)"
   ]
  },
  {
   "cell_type": "code",
   "execution_count": 280,
   "id": "331ab270-3ead-4aba-bc6c-fd0c09bf838a",
   "metadata": {},
   "outputs": [],
   "source": [
    "# Construindo o modelo LSTM\n",
    "model = Sequential()"
   ]
  },
  {
   "cell_type": "code",
   "execution_count": 281,
   "id": "1da073ba-61a2-4ad5-929b-15b35426300f",
   "metadata": {},
   "outputs": [],
   "source": [
    "# Adicionando a entrada explicitamente com a camada Input()\n",
    "model.add(Input(shape=input_shape))\n",
    "model.add(LSTM(100, return_sequences=True))\n",
    "model.add(Dropout(0.2))\n",
    "model.add(LSTM(100, return_sequences=False))\n",
    "model.add(Dropout(0.2))\n",
    "model.add(Dense(50))\n",
    "model.add(Dense(1))"
   ]
  },
  {
   "cell_type": "code",
   "execution_count": 282,
   "id": "01ecc3b5-3158-41b7-974a-b8bc4df9899e",
   "metadata": {},
   "outputs": [],
   "source": [
    "# Compilando o modelo\n",
    "model.compile(optimizer='adam', loss='mean_squared_error')"
   ]
  },
  {
   "cell_type": "code",
   "execution_count": 283,
   "id": "3c6d8c6b-0c92-4101-9729-307f37e10bbe",
   "metadata": {},
   "outputs": [
    {
     "name": "stdout",
     "output_type": "stream",
     "text": [
      "Epoch 1/50\n",
      "\u001b[1m4/4\u001b[0m \u001b[32m━━━━━━━━━━━━━━━━━━━━\u001b[0m\u001b[37m\u001b[0m \u001b[1m2s\u001b[0m 42ms/step - loss: 49.7024\n",
      "Epoch 2/50\n",
      "\u001b[1m4/4\u001b[0m \u001b[32m━━━━━━━━━━━━━━━━━━━━\u001b[0m\u001b[37m\u001b[0m \u001b[1m0s\u001b[0m 38ms/step - loss: 15.6059\n",
      "Epoch 3/50\n",
      "\u001b[1m4/4\u001b[0m \u001b[32m━━━━━━━━━━━━━━━━━━━━\u001b[0m\u001b[37m\u001b[0m \u001b[1m0s\u001b[0m 39ms/step - loss: 8.3603\n",
      "Epoch 4/50\n",
      "\u001b[1m4/4\u001b[0m \u001b[32m━━━━━━━━━━━━━━━━━━━━\u001b[0m\u001b[37m\u001b[0m \u001b[1m0s\u001b[0m 38ms/step - loss: 9.7296 \n",
      "Epoch 5/50\n",
      "\u001b[1m4/4\u001b[0m \u001b[32m━━━━━━━━━━━━━━━━━━━━\u001b[0m\u001b[37m\u001b[0m \u001b[1m0s\u001b[0m 38ms/step - loss: 6.7947\n",
      "Epoch 6/50\n",
      "\u001b[1m4/4\u001b[0m \u001b[32m━━━━━━━━━━━━━━━━━━━━\u001b[0m\u001b[37m\u001b[0m \u001b[1m0s\u001b[0m 37ms/step - loss: 6.1400\n",
      "Epoch 7/50\n",
      "\u001b[1m4/4\u001b[0m \u001b[32m━━━━━━━━━━━━━━━━━━━━\u001b[0m\u001b[37m\u001b[0m \u001b[1m0s\u001b[0m 40ms/step - loss: 5.5342\n",
      "Epoch 8/50\n",
      "\u001b[1m4/4\u001b[0m \u001b[32m━━━━━━━━━━━━━━━━━━━━\u001b[0m\u001b[37m\u001b[0m \u001b[1m0s\u001b[0m 41ms/step - loss: 3.0846\n",
      "Epoch 9/50\n",
      "\u001b[1m4/4\u001b[0m \u001b[32m━━━━━━━━━━━━━━━━━━━━\u001b[0m\u001b[37m\u001b[0m \u001b[1m0s\u001b[0m 44ms/step - loss: 1.7644\n",
      "Epoch 10/50\n",
      "\u001b[1m4/4\u001b[0m \u001b[32m━━━━━━━━━━━━━━━━━━━━\u001b[0m\u001b[37m\u001b[0m \u001b[1m0s\u001b[0m 39ms/step - loss: 1.7455\n",
      "Epoch 11/50\n",
      "\u001b[1m4/4\u001b[0m \u001b[32m━━━━━━━━━━━━━━━━━━━━\u001b[0m\u001b[37m\u001b[0m \u001b[1m0s\u001b[0m 41ms/step - loss: 1.7752\n",
      "Epoch 12/50\n",
      "\u001b[1m4/4\u001b[0m \u001b[32m━━━━━━━━━━━━━━━━━━━━\u001b[0m\u001b[37m\u001b[0m \u001b[1m0s\u001b[0m 38ms/step - loss: 1.0472\n",
      "Epoch 13/50\n",
      "\u001b[1m4/4\u001b[0m \u001b[32m━━━━━━━━━━━━━━━━━━━━\u001b[0m\u001b[37m\u001b[0m \u001b[1m0s\u001b[0m 41ms/step - loss: 1.1254\n",
      "Epoch 14/50\n",
      "\u001b[1m4/4\u001b[0m \u001b[32m━━━━━━━━━━━━━━━━━━━━\u001b[0m\u001b[37m\u001b[0m \u001b[1m0s\u001b[0m 41ms/step - loss: 1.1510\n",
      "Epoch 15/50\n",
      "\u001b[1m4/4\u001b[0m \u001b[32m━━━━━━━━━━━━━━━━━━━━\u001b[0m\u001b[37m\u001b[0m \u001b[1m0s\u001b[0m 42ms/step - loss: 1.1470\n",
      "Epoch 16/50\n",
      "\u001b[1m4/4\u001b[0m \u001b[32m━━━━━━━━━━━━━━━━━━━━\u001b[0m\u001b[37m\u001b[0m \u001b[1m0s\u001b[0m 42ms/step - loss: 1.0218\n",
      "Epoch 17/50\n",
      "\u001b[1m4/4\u001b[0m \u001b[32m━━━━━━━━━━━━━━━━━━━━\u001b[0m\u001b[37m\u001b[0m \u001b[1m0s\u001b[0m 42ms/step - loss: 1.1406\n",
      "Epoch 18/50\n",
      "\u001b[1m4/4\u001b[0m \u001b[32m━━━━━━━━━━━━━━━━━━━━\u001b[0m\u001b[37m\u001b[0m \u001b[1m0s\u001b[0m 42ms/step - loss: 0.9899\n",
      "Epoch 19/50\n",
      "\u001b[1m4/4\u001b[0m \u001b[32m━━━━━━━━━━━━━━━━━━━━\u001b[0m\u001b[37m\u001b[0m \u001b[1m0s\u001b[0m 41ms/step - loss: 1.0051\n",
      "Epoch 20/50\n",
      "\u001b[1m4/4\u001b[0m \u001b[32m━━━━━━━━━━━━━━━━━━━━\u001b[0m\u001b[37m\u001b[0m \u001b[1m0s\u001b[0m 39ms/step - loss: 0.8443\n",
      "Epoch 21/50\n",
      "\u001b[1m4/4\u001b[0m \u001b[32m━━━━━━━━━━━━━━━━━━━━\u001b[0m\u001b[37m\u001b[0m \u001b[1m0s\u001b[0m 38ms/step - loss: 0.7748\n",
      "Epoch 22/50\n",
      "\u001b[1m4/4\u001b[0m \u001b[32m━━━━━━━━━━━━━━━━━━━━\u001b[0m\u001b[37m\u001b[0m \u001b[1m0s\u001b[0m 43ms/step - loss: 0.9454\n",
      "Epoch 23/50\n",
      "\u001b[1m4/4\u001b[0m \u001b[32m━━━━━━━━━━━━━━━━━━━━\u001b[0m\u001b[37m\u001b[0m \u001b[1m0s\u001b[0m 49ms/step - loss: 0.7751\n",
      "Epoch 24/50\n",
      "\u001b[1m4/4\u001b[0m \u001b[32m━━━━━━━━━━━━━━━━━━━━\u001b[0m\u001b[37m\u001b[0m \u001b[1m0s\u001b[0m 45ms/step - loss: 0.6875\n",
      "Epoch 25/50\n",
      "\u001b[1m4/4\u001b[0m \u001b[32m━━━━━━━━━━━━━━━━━━━━\u001b[0m\u001b[37m\u001b[0m \u001b[1m0s\u001b[0m 43ms/step - loss: 0.5633\n",
      "Epoch 26/50\n",
      "\u001b[1m4/4\u001b[0m \u001b[32m━━━━━━━━━━━━━━━━━━━━\u001b[0m\u001b[37m\u001b[0m \u001b[1m0s\u001b[0m 44ms/step - loss: 0.6557\n",
      "Epoch 27/50\n",
      "\u001b[1m4/4\u001b[0m \u001b[32m━━━━━━━━━━━━━━━━━━━━\u001b[0m\u001b[37m\u001b[0m \u001b[1m0s\u001b[0m 46ms/step - loss: 0.7500\n",
      "Epoch 28/50\n",
      "\u001b[1m4/4\u001b[0m \u001b[32m━━━━━━━━━━━━━━━━━━━━\u001b[0m\u001b[37m\u001b[0m \u001b[1m0s\u001b[0m 41ms/step - loss: 0.5769\n",
      "Epoch 29/50\n",
      "\u001b[1m4/4\u001b[0m \u001b[32m━━━━━━━━━━━━━━━━━━━━\u001b[0m\u001b[37m\u001b[0m \u001b[1m0s\u001b[0m 43ms/step - loss: 0.6056\n",
      "Epoch 30/50\n",
      "\u001b[1m4/4\u001b[0m \u001b[32m━━━━━━━━━━━━━━━━━━━━\u001b[0m\u001b[37m\u001b[0m \u001b[1m0s\u001b[0m 42ms/step - loss: 0.6101\n",
      "Epoch 31/50\n",
      "\u001b[1m4/4\u001b[0m \u001b[32m━━━━━━━━━━━━━━━━━━━━\u001b[0m\u001b[37m\u001b[0m \u001b[1m0s\u001b[0m 42ms/step - loss: 0.6087\n",
      "Epoch 32/50\n",
      "\u001b[1m4/4\u001b[0m \u001b[32m━━━━━━━━━━━━━━━━━━━━\u001b[0m\u001b[37m\u001b[0m \u001b[1m0s\u001b[0m 42ms/step - loss: 0.5337\n",
      "Epoch 33/50\n",
      "\u001b[1m4/4\u001b[0m \u001b[32m━━━━━━━━━━━━━━━━━━━━\u001b[0m\u001b[37m\u001b[0m \u001b[1m0s\u001b[0m 41ms/step - loss: 0.7175\n",
      "Epoch 34/50\n",
      "\u001b[1m4/4\u001b[0m \u001b[32m━━━━━━━━━━━━━━━━━━━━\u001b[0m\u001b[37m\u001b[0m \u001b[1m0s\u001b[0m 42ms/step - loss: 0.7485\n",
      "Epoch 35/50\n",
      "\u001b[1m4/4\u001b[0m \u001b[32m━━━━━━━━━━━━━━━━━━━━\u001b[0m\u001b[37m\u001b[0m \u001b[1m0s\u001b[0m 41ms/step - loss: 0.5912\n",
      "Epoch 36/50\n",
      "\u001b[1m4/4\u001b[0m \u001b[32m━━━━━━━━━━━━━━━━━━━━\u001b[0m\u001b[37m\u001b[0m \u001b[1m0s\u001b[0m 41ms/step - loss: 0.5358\n",
      "Epoch 37/50\n",
      "\u001b[1m4/4\u001b[0m \u001b[32m━━━━━━━━━━━━━━━━━━━━\u001b[0m\u001b[37m\u001b[0m \u001b[1m0s\u001b[0m 42ms/step - loss: 0.7192\n",
      "Epoch 38/50\n",
      "\u001b[1m4/4\u001b[0m \u001b[32m━━━━━━━━━━━━━━━━━━━━\u001b[0m\u001b[37m\u001b[0m \u001b[1m0s\u001b[0m 44ms/step - loss: 0.6216\n",
      "Epoch 39/50\n",
      "\u001b[1m4/4\u001b[0m \u001b[32m━━━━━━━━━━━━━━━━━━━━\u001b[0m\u001b[37m\u001b[0m \u001b[1m0s\u001b[0m 41ms/step - loss: 0.6780\n",
      "Epoch 40/50\n",
      "\u001b[1m4/4\u001b[0m \u001b[32m━━━━━━━━━━━━━━━━━━━━\u001b[0m\u001b[37m\u001b[0m \u001b[1m0s\u001b[0m 41ms/step - loss: 0.5193\n",
      "Epoch 41/50\n",
      "\u001b[1m4/4\u001b[0m \u001b[32m━━━━━━━━━━━━━━━━━━━━\u001b[0m\u001b[37m\u001b[0m \u001b[1m0s\u001b[0m 41ms/step - loss: 0.5169\n",
      "Epoch 42/50\n",
      "\u001b[1m4/4\u001b[0m \u001b[32m━━━━━━━━━━━━━━━━━━━━\u001b[0m\u001b[37m\u001b[0m \u001b[1m0s\u001b[0m 43ms/step - loss: 0.6270\n",
      "Epoch 43/50\n",
      "\u001b[1m4/4\u001b[0m \u001b[32m━━━━━━━━━━━━━━━━━━━━\u001b[0m\u001b[37m\u001b[0m \u001b[1m0s\u001b[0m 42ms/step - loss: 0.5809\n",
      "Epoch 44/50\n",
      "\u001b[1m4/4\u001b[0m \u001b[32m━━━━━━━━━━━━━━━━━━━━\u001b[0m\u001b[37m\u001b[0m \u001b[1m0s\u001b[0m 41ms/step - loss: 0.5146\n",
      "Epoch 45/50\n",
      "\u001b[1m4/4\u001b[0m \u001b[32m━━━━━━━━━━━━━━━━━━━━\u001b[0m\u001b[37m\u001b[0m \u001b[1m0s\u001b[0m 42ms/step - loss: 0.5730\n",
      "Epoch 46/50\n",
      "\u001b[1m4/4\u001b[0m \u001b[32m━━━━━━━━━━━━━━━━━━━━\u001b[0m\u001b[37m\u001b[0m \u001b[1m0s\u001b[0m 41ms/step - loss: 0.5256\n",
      "Epoch 47/50\n",
      "\u001b[1m4/4\u001b[0m \u001b[32m━━━━━━━━━━━━━━━━━━━━\u001b[0m\u001b[37m\u001b[0m \u001b[1m0s\u001b[0m 42ms/step - loss: 0.5987\n",
      "Epoch 48/50\n",
      "\u001b[1m4/4\u001b[0m \u001b[32m━━━━━━━━━━━━━━━━━━━━\u001b[0m\u001b[37m\u001b[0m \u001b[1m0s\u001b[0m 46ms/step - loss: 0.5175\n",
      "Epoch 49/50\n",
      "\u001b[1m4/4\u001b[0m \u001b[32m━━━━━━━━━━━━━━━━━━━━\u001b[0m\u001b[37m\u001b[0m \u001b[1m0s\u001b[0m 47ms/step - loss: 0.4378\n",
      "Epoch 50/50\n",
      "\u001b[1m4/4\u001b[0m \u001b[32m━━━━━━━━━━━━━━━━━━━━\u001b[0m\u001b[37m\u001b[0m \u001b[1m0s\u001b[0m 45ms/step - loss: 0.7036\n"
     ]
    },
    {
     "data": {
      "text/plain": [
       "<keras.src.callbacks.history.History at 0x7f65c1096750>"
      ]
     },
     "execution_count": 283,
     "metadata": {},
     "output_type": "execute_result"
    }
   ],
   "source": [
    "# Treinando o modelo\n",
    "model.fit(X_train, y_train, batch_size=64, epochs=50, verbose=1)"
   ]
  },
  {
   "cell_type": "code",
   "execution_count": 284,
   "id": "cf0ee4f0-5d47-48e6-90fd-e343837271dc",
   "metadata": {},
   "outputs": [
    {
     "name": "stdout",
     "output_type": "stream",
     "text": [
      "\u001b[1m8/8\u001b[0m \u001b[32m━━━━━━━━━━━━━━━━━━━━\u001b[0m\u001b[37m\u001b[0m \u001b[1m0s\u001b[0m 35ms/step\n",
      "\u001b[1m1/1\u001b[0m \u001b[32m━━━━━━━━━━━━━━━━━━━━\u001b[0m\u001b[37m\u001b[0m \u001b[1m0s\u001b[0m 18ms/step\n"
     ]
    }
   ],
   "source": [
    "# Fazendo previsões\n",
    "train_predict = model.predict(X_train)\n",
    "test_predict = model.predict(X_test)"
   ]
  },
  {
   "cell_type": "code",
   "execution_count": 285,
   "id": "382934c3-a6cd-4cbc-85b8-191d5830c7f7",
   "metadata": {},
   "outputs": [],
   "source": [
    "y_train_reshaped = y_train.reshape(-1, 1)"
   ]
  },
  {
   "cell_type": "code",
   "execution_count": 286,
   "id": "3651f570-d8a1-4140-8b71-49f2bc698b49",
   "metadata": {},
   "outputs": [],
   "source": [
    "train_predict = scaler.inverse_transform(train_predict)\n",
    "y_train = scaler.inverse_transform(y_train_reshaped)"
   ]
  },
  {
   "cell_type": "code",
   "execution_count": 287,
   "id": "e6a9ecfb-b975-4e4c-82da-553ee46c30cd",
   "metadata": {},
   "outputs": [],
   "source": [
    "y_test_reshaped = y_test.reshape(-1, 1)"
   ]
  },
  {
   "cell_type": "code",
   "execution_count": 288,
   "id": "85eb9300-d98e-4a5f-a269-b718d58a45e3",
   "metadata": {},
   "outputs": [],
   "source": [
    "test_predict = scaler.inverse_transform(test_predict)\n",
    "y_test = scaler.inverse_transform(y_test_reshaped)"
   ]
  },
  {
   "cell_type": "code",
   "execution_count": 289,
   "id": "c0466dde-086c-45d7-8c25-4fd0beb5f775",
   "metadata": {},
   "outputs": [],
   "source": [
    "sequence_length = 1"
   ]
  },
  {
   "cell_type": "code",
   "execution_count": 290,
   "id": "ee8c3c5f-ad0f-4769-92a1-783c14ca9b99",
   "metadata": {},
   "outputs": [],
   "source": [
    "adjusted_index = rndr_df.index[sequence_length:sequence_length + len(y_train)]"
   ]
  },
  {
   "cell_type": "code",
   "execution_count": 291,
   "id": "3bb088a0-d5e0-4312-a06e-497900114446",
   "metadata": {},
   "outputs": [],
   "source": [
    "train_dates = train_dates[-len(y_train):]  # Para o conjunto de treino\n",
    "test_dates = dates[-len(y_test):]   # Para o conjunto de teste"
   ]
  },
  {
   "cell_type": "code",
   "execution_count": 292,
   "id": "4cdce728-9996-44ff-a21d-189e8dcd5caf",
   "metadata": {},
   "outputs": [
    {
     "data": {
      "image/png": "[encoded data removed]",
      "text/plain": [
       "<Figure size 1200x600 with 1 Axes>"
      ]
     },
     "metadata": {},
     "output_type": "display_data"
    },
    {
     "data": {
      "image/png": "[encoded data removed]",
      "text/plain": [
       "<Figure size 640x480 with 1 Axes>"
      ]
     },
     "metadata": {},
     "output_type": "display_data"
    }
   ],
   "source": [
    "plt.figure(figsize=(12, 6))\n",
    "\n",
    "# Preço Real - Treino\n",
    "plt.plot(train_dates, y_train[:, 0], color='blue', label='Preço Real - Treino')\n",
    "\n",
    "# Preço Previsto - Treino\n",
    "plt.plot(train_dates, train_predict[:, 0], color='red', label='Preço Previsto - Treino')\n",
    "\n",
    "# Ajuste para os dados de teste\n",
    "adjusted_test_index = rndr_df.index[train_size + sequence_length:train_size + sequence_length + len(y_test)]\n",
    "\n",
    "# Preço Real - Teste\n",
    "plt.plot(test_dates, y_test[:, 0], color='green', label='Preço Real - Teste')\n",
    "\n",
    "# Preço Previsto - Teste\n",
    "plt.plot(test_dates, test_predict[:, 0], color='orange', label='Preço Previsto - Teste')\n",
    "\n",
    "# Formatando as datas para melhor visualização\n",
    "plt.gcf().autofmt_xdate()\n",
    "plt.gca().xaxis.set_major_formatter(mdates.DateFormatter('%Y-%m-%d'))\n",
    "plt.gca().xaxis.set_major_locator(mdates.DayLocator(interval=30))\n",
    "\n",
    "# Exibindo o gráfico\n",
    "plt.title('Preços Reais e Previstos')\n",
    "plt.xlabel('Data')\n",
    "plt.ylabel('Preço')\n",
    "plt.legend()\n",
    "plt.show()"
   ]
  }
 ],
 "metadata": {
  "kernelspec": {
   "display_name": "Python 3 (ipykernel)",
   "language": "python",
   "name": "python3"
  },
  "language_info": {
   "codemirror_mode": {
    "name": "ipython",
    "version": 3
   },
   "file_extension": ".py",
   "mimetype": "text/x-python",
   "name": "python",
   "nbconvert_exporter": "python",
   "pygments_lexer": "ipython3",
   "version": "3.12.5"
  }
 },
 "nbformat": 4,
 "nbformat_minor": 5
}
